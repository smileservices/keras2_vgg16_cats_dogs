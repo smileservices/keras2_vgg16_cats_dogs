{
 "cells": [
  {
   "cell_type": "markdown",
   "metadata": {},
   "source": [
    "#### Keras data folders structure\n",
    "- test/cat/ test/dog/\n",
    "- train/cat/ train/dog/\n",
    "- valid/cat/ valid/dog\n",
    "\n",
    "#### Only run this once!"
   ]
  },
  {
   "cell_type": "code",
   "execution_count": 1,
   "metadata": {},
   "outputs": [],
   "source": [
    "import os\n",
    "from shutil import copyfile"
   ]
  },
  {
   "cell_type": "code",
   "execution_count": 4,
   "metadata": {},
   "outputs": [],
   "source": [
    "CWD = os.getcwd()"
   ]
  },
  {
   "cell_type": "code",
   "execution_count": null,
   "metadata": {},
   "outputs": [],
   "source": [
    "RAW_TRAIN_PATH = os.path.join(CWD, 'train') \n",
    "# SAMPLE_PATH = os.path.join(CWD, 'sample')\n",
    "# ALL_DATA_PATH = os.path.join(CWD, 'all_data')\n",
    "\n",
    "train_files = os.listdir(os.path.join(CWD, 'train'))\n",
    "# split files into dogs/cats folders and move them into all_data folder\n",
    "ratio = [\n",
    "    {\n",
    "        'size': 150,\n",
    "        'name': 'sample',\n",
    "        'structure': {\n",
    "            'train':85,\n",
    "            'valid':15,\n",
    "        }\n",
    "    },\n",
    "    {\n",
    "        'size': len(train_files),\n",
    "        'name': 'all_data',\n",
    "        'structure': {\n",
    "            'train':85,\n",
    "            'valid':15,\n",
    "        }\n",
    "    },\n",
    "]\n",
    "categories = ['cat', 'dog']\n",
    "# calculate files distribution and create folders\n",
    "for idx, folder in enumerate(ratio):\n",
    "    os.mkdir(os.path.join(CWD, folder['name']))\n",
    "    for fldr, rat in folder['structure'].items():\n",
    "        ratio[idx]['structure'][fldr] = int(folder['size']*rat/100)\n",
    "        os.mkdir(os.path.join(CWD, folder['name'], fldr))\n",
    "        for cat in categories:\n",
    "            os.mkdir(os.path.join(CWD, folder['name'], fldr, cat))"
   ]
  },
  {
   "cell_type": "code",
   "execution_count": null,
   "metadata": {},
   "outputs": [],
   "source": [
    "for folder in ratio:\n",
    "    shuffle(train_files)\n",
    "    ratio_counter = {\n",
    "        'train':0,\n",
    "        'valid':0,\n",
    "    }\n",
    "    for filename in train_files:\n",
    "        for catdir,size in folder['structure'].items():\n",
    "            if size > ratio_counter[catdir]:\n",
    "                for categ in categories:\n",
    "                    if (filename.find(categ) != -1):\n",
    "                        copyfile(\n",
    "                            os.path.join(RAW_TRAIN_PATH, filename),\n",
    "                            os.path.join(CWD, folder['name'], catdir, categ, filename[len(categ)+1:])\n",
    "                        )\n",
    "                        ratio_counter[catdir] += 1"
   ]
  },
  {
   "cell_type": "code",
   "execution_count": 27,
   "metadata": {
    "scrolled": true
   },
   "outputs": [],
   "source": [
    "#move all files in test to test/unknown\n",
    "test_files = os.listdir(os.path.join(CWD, 'test'))\n",
    "for filename in test_files[1:]:\n",
    "    os.rename(os.path.join(CWD, 'test', filename), os.path.join(CWD, 'test/unknown', filename))"
   ]
  }
 ],
 "metadata": {
  "kernelspec": {
   "display_name": "Python 3",
   "language": "python",
   "name": "python3"
  },
  "language_info": {
   "codemirror_mode": {
    "name": "ipython",
    "version": 2
   },
   "file_extension": ".py",
   "mimetype": "text/x-python",
   "name": "python",
   "nbconvert_exporter": "python",
   "pygments_lexer": "ipython2",
   "version": "2.7.12"
  }
 },
 "nbformat": 4,
 "nbformat_minor": 2
}
